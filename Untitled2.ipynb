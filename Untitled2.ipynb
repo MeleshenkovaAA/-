{
  "nbformat": 4,
  "nbformat_minor": 0,
  "metadata": {
    "colab": {
      "name": "Untitled2.ipynb",
      "provenance": [],
      "collapsed_sections": []
    },
    "kernelspec": {
      "name": "python3",
      "display_name": "Python 3"
    },
    "language_info": {
      "name": "python"
    }
  },
  "cells": [
    {
      "cell_type": "code",
      "metadata": {
        "colab": {
          "base_uri": "https://localhost:8080/"
        },
        "id": "0FAtCQpSkE-w",
        "outputId": "bdd1a5aa-3eff-4a40-9a01-90bfa9ed9306"
      },
      "source": [
        "import hashlib\n",
        " \n",
        "mystring = input('Enter String to hash: ')\n",
        " \n",
        "# Предположительно по умолчанию UTF-8\n",
        "hash_object = hashlib.md5(mystring.encode())\n",
        "print(hash_object.hexdigest())"
      ],
      "execution_count": 1,
      "outputs": [
        {
          "output_type": "stream",
          "name": "stdout",
          "text": [
            "Enter String to hash: 12345\n",
            "827ccb0eea8a706c4c34a16891f84e7b\n"
          ]
        }
      ]
    },
    {
      "cell_type": "code",
      "metadata": {
        "colab": {
          "base_uri": "https://localhost:8080/"
        },
        "id": "Chcy4Dn7lKo4",
        "outputId": "0131b789-572b-4c7b-e61f-0e42fc1643b8"
      },
      "source": [
        "import hashlib\n",
        " \n",
        "mystring = input('Enter String to hash: ')\n",
        " \n",
        "# Предположительно по умолчанию UTF-8\n",
        "hash_object = hashlib.md5(mystring.encode())\n",
        "print(hash_object.hexdigest())\n"
      ],
      "execution_count": 2,
      "outputs": [
        {
          "output_type": "stream",
          "name": "stdout",
          "text": [
            "Enter String to hash: abcdr\n",
            "930406f768789aa4eae38e5699761bd4\n"
          ]
        }
      ]
    },
    {
      "cell_type": "code",
      "metadata": {
        "colab": {
          "base_uri": "https://localhost:8080/"
        },
        "id": "ilSExdokleKN",
        "outputId": "d9769460-fc8e-4204-be01-bbf21218f38c"
      },
      "source": [
        "import hashlib\n",
        " \n",
        "mystring = input('Enter String to hash: ')\n",
        " \n",
        "# Предположительно по умолчанию UTF-8\n",
        "hash_object = hashlib.md5(mystring.encode())\n",
        "print(hash_object.hexdigest())\n"
      ],
      "execution_count": 3,
      "outputs": [
        {
          "output_type": "stream",
          "name": "stdout",
          "text": [
            "Enter String to hash: r3u8j4\n",
            "efe5ee5a2bf44d82e31b8d29c8f3005d\n"
          ]
        }
      ]
    },
    {
      "cell_type": "code",
      "metadata": {
        "colab": {
          "base_uri": "https://localhost:8080/"
        },
        "id": "J_gAa9bpmEj4",
        "outputId": "573664b0-c7eb-4064-a140-5f4995677481"
      },
      "source": [
        "import hashlib\n",
        " \n",
        "hash_object = hashlib.sha1(b'Meleshenkova')\n",
        "hex_dig = hash_object.hexdigest()\n",
        " \n",
        "print(hex_dig)"
      ],
      "execution_count": 5,
      "outputs": [
        {
          "output_type": "stream",
          "name": "stdout",
          "text": [
            "8168115ed88744f274b7fc14212557670ac8cd00\n"
          ]
        }
      ]
    },
    {
      "cell_type": "code",
      "metadata": {
        "colab": {
          "base_uri": "https://localhost:8080/"
        },
        "id": "hAeHAuWQmbar",
        "outputId": "9127573d-7722-429d-be4f-4326bf30b688"
      },
      "source": [
        "import hashlib\n",
        " \n",
        "hash_object = hashlib.sha224(b'Meleshenkova')\n",
        "hex_dig = hash_object.hexdigest()\n",
        " \n",
        "print(hex_dig)"
      ],
      "execution_count": 6,
      "outputs": [
        {
          "output_type": "stream",
          "name": "stdout",
          "text": [
            "95b79b8f9bcef0b58d42656a368d64e4c0a6e276443d6f8cc6fdf8b1\n"
          ]
        }
      ]
    },
    {
      "cell_type": "code",
      "metadata": {
        "colab": {
          "base_uri": "https://localhost:8080/"
        },
        "id": "DJZK9pGEm7Tt",
        "outputId": "782293b1-5607-431c-e2ba-899c3ae7852b"
      },
      "source": [
        "import hashlib\n",
        " \n",
        "hash_object = hashlib.sha256(b'Meleshenkova')\n",
        "hex_dig = hash_object.hexdigest()\n",
        " \n",
        "print(hex_dig)"
      ],
      "execution_count": 7,
      "outputs": [
        {
          "output_type": "stream",
          "name": "stdout",
          "text": [
            "cbd5eb7293529bfa080bb313575d65311d4c8ed37350739a42a5d2348dabd70e\n"
          ]
        }
      ]
    },
    {
      "cell_type": "code",
      "metadata": {
        "colab": {
          "base_uri": "https://localhost:8080/"
        },
        "id": "arnVcQ0snc0D",
        "outputId": "66731d28-96f5-4be3-90ff-a9a1ebe15a42"
      },
      "source": [
        "import hashlib\n",
        " \n",
        "hash_object = hashlib.sha384(b'Meleshenkova')\n",
        "hex_dig = hash_object.hexdigest()\n",
        " \n",
        "print(hex_dig)"
      ],
      "execution_count": 8,
      "outputs": [
        {
          "output_type": "stream",
          "name": "stdout",
          "text": [
            "e7d1139769c2a1d2215812b3aed7b8668a7d0d0d25c53a7b23ab39c44d75394d78ddda0f0179948392dc9c1aa4a45700\n"
          ]
        }
      ]
    },
    {
      "cell_type": "code",
      "metadata": {
        "colab": {
          "base_uri": "https://localhost:8080/"
        },
        "id": "TgzFCzt5n8bk",
        "outputId": "aeae08c9-b7ed-4bda-c3f1-edf575242547"
      },
      "source": [
        "import hashlib\n",
        " \n",
        "hash_object = hashlib.sha512(b'Meleshenkova')\n",
        "hex_dig = hash_object.hexdigest()\n",
        " \n",
        "print(hex_dig)"
      ],
      "execution_count": 10,
      "outputs": [
        {
          "output_type": "stream",
          "name": "stdout",
          "text": [
            "04c303961ce6741e7706d2cfcca7c01467a6d6b511eda5d5fcd7afbfc4fc165694f5bbf7ce7fa60b052c987a05889bba58b99cec6d41b59827da9f2908c9761b\n"
          ]
        }
      ]
    }
  ]
}